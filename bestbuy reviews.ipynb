{
 "cells": [
  {
   "cell_type": "code",
   "execution_count": 28,
   "metadata": {
    "collapsed": true
   },
   "outputs": [],
   "source": [
    "import requests\n",
    "from bs4 import BeautifulSoup\n",
    "import csv\n"
   ]
  },
  {
   "cell_type": "code",
   "execution_count": 29,
   "metadata": {},
   "outputs": [
    {
     "name": "stdout",
     "output_type": "stream",
     "text": [
      "$624.99\n",
      "$100\n",
      "4.7\n",
      "2102 Reviews\n",
      "done\n"
     ]
    }
   ],
   "source": [
    "url_home=\"https://www.bestbuy.com/site/samsung-galaxy-s8-64gb-unlocked-midnight-black/5803741.p?skuId=5803741\"\n",
    "url_review=\"https://www.bestbuy.com/site/reviews/samsung-galaxy-s8-64gb-unlocked-midnight-black/5803741\"\n",
    "score=[]\n",
    "title=[]\n",
    "date=[]\n",
    "reviews=[]\n",
    "headers={'User-Agent':'Mozilla/5.0 (Windows NT 10.0; Win64; x64) AppleWebKit/537.36 (KHTML, like Gecko) Chrome/61.0.3163.100 Safari/537.36'}\n",
    "\n",
    "def setSoup(url):\n",
    "    page = requests.get(url,headers=headers)\n",
    "    if page.status_code==200:\n",
    "        soup = BeautifulSoup(page.content, 'html.parser')\n",
    "        return soup\n",
    "    else:\n",
    "        print \"Error\"\n",
    "        \n",
    "def getReviewsBestBuy():\n",
    "    soup=setSoup(url_review)\n",
    "    divs=soup.select(\"div.review-item-feedback\")\n",
    "#     print type(divs)\n",
    "    for idx,div in enumerate(divs):\n",
    "        score.append(div.select(\"span.reviewer-score\")[0].get_text().encode('utf8'))\n",
    "        title.append(div.select(\"h4.col-md-9.col-sm-9.col-xs-12.title\")[0].get_text().encode('utf8'))\n",
    "        date.append(div.select(\"div.review-date\")[0].get_text().encode('utf8'))\n",
    "        reviews.append(div.select(\"p.pre-white-space\")[0].get_text().encode('utf8'))\n",
    "#     for i in range(len(score)):\n",
    "#         print \"\\nPrinting the \",i+1,\" review\"\n",
    "#         print \"Score:\\n\",score[i]\n",
    "#         print \"Title:\\n\",title[i]\n",
    "#         print \"Date:\\n\",date[i]\n",
    "#         print \"Review:\\n\",reviews[i]\n",
    "        rows=zip(date, score, title, reviews)\n",
    "    with open (\"bestbuy.csv\",'wb') as bb:\n",
    "        writer=csv.writer(bb)\n",
    "        writer.writerows(rows)\n",
    "    print \"done\"\n",
    "    \n",
    "        \n",
    "def mainPageContent():\n",
    "    soup=setSoup(url_home)\n",
    "    average_score=None\n",
    "    ratings_count=None\n",
    "    price=None\n",
    "    discount=None\n",
    "    avg_div=soup.select(\"span.average-score\")\n",
    "\n",
    "    rating_div=soup.select(\"a#ratings-count-link\")\n",
    "\n",
    "    price_div=soup.select(\"div.pb-hero-price.pb-purchase-price span\")\n",
    "    discount_div=soup.select(\"div.pb-savings\")\n",
    "    if price_div!=[]:\n",
    "        price=price_div[0].get_text()\n",
    "        print price\n",
    "    if discount_div!=[]:\n",
    "\n",
    "        discount=((discount_div[0].get_text()).split())[1]\n",
    "        print discount\n",
    "\n",
    "    if avg_div!=[]:\n",
    "        average_score=avg_div[0].get_text()\n",
    "        print average_score\n",
    "    if rating_div!=[]:\n",
    "        ratings_count=rating_div[0].get_text()\n",
    "        print ratings_count\n",
    "#     all_reviews_div=soup.select(\"div.write-a-review a\")[0]['href']\n",
    "#     print all_reviews_div\n",
    "#     reviews_page=requests.get(all_reviews_div,headers=headers)\n",
    "#     if reviews_page.status_code==200:\n",
    "#         print \"Extract reviews\"\n",
    "\n",
    "if __name__==\"__main__\":\n",
    "    mainPageContent();\n",
    "    getReviewsBestBuy();\n",
    "        "
   ]
  },
  {
   "cell_type": "code",
   "execution_count": null,
   "metadata": {
    "collapsed": true
   },
   "outputs": [],
   "source": []
  }
 ],
 "metadata": {
  "kernelspec": {
   "display_name": "Python 2",
   "language": "python",
   "name": "python2"
  },
  "language_info": {
   "codemirror_mode": {
    "name": "ipython",
    "version": 2
   },
   "file_extension": ".py",
   "mimetype": "text/x-python",
   "name": "python",
   "nbconvert_exporter": "python",
   "pygments_lexer": "ipython2",
   "version": "2.7.13"
  }
 },
 "nbformat": 4,
 "nbformat_minor": 2
}
