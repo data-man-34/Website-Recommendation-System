{
 "cells": [
  {
   "cell_type": "code",
   "execution_count": 11,
   "metadata": {
    "collapsed": true
   },
   "outputs": [],
   "source": [
    "import requests\n",
    "from bs4 import BeautifulSoup\n",
    "import csv\n"
   ]
  },
  {
   "cell_type": "code",
   "execution_count": 27,
   "metadata": {},
   "outputs": [
    {
     "name": "stdout",
     "output_type": "stream",
     "text": [
      "done\n"
     ]
    }
   ],
   "source": [
    "score=[]\n",
    "title=[]\n",
    "date=[]\n",
    "reviews=[]\n",
    "headers={'User-Agent':'Mozilla/5.0 (Windows NT 10.0; Win64; x64) AppleWebKit/537.36 (KHTML, like Gecko) Chrome/61.0.3163.100 Safari/537.36'}\n",
    "url=\"https://www.bestbuy.com/site/reviews/samsung-galaxy-s8-64gb-unlocked-midnight-black/5803741\"\n",
    "page = requests.get(url,headers=headers)\n",
    "\n",
    "if page.status_code==200:\n",
    "    soup = BeautifulSoup(page.content, 'html.parser')\n",
    "    divs=soup.select(\"div.review-item-feedback\")\n",
    "#     print type(divs)\n",
    "    for idx,div in enumerate(divs):\n",
    "        score.append(div.select(\"span.reviewer-score\")[0].get_text().encode('utf8'))\n",
    "        title.append(div.select(\"h4.col-md-9.col-sm-9.col-xs-12.title\")[0].get_text().encode('utf8'))\n",
    "        date.append(div.select(\"div.review-date\")[0].get_text().encode('utf8'))\n",
    "        reviews.append(div.select(\"p.pre-white-space\")[0].get_text().encode('utf8'))\n",
    "#     for i in range(len(score)):\n",
    "#         print \"\\nPrinting the \",i+1,\" review\"\n",
    "#         print \"Score:\\n\",score[i]\n",
    "#         print \"Title:\\n\",title[i]\n",
    "#         print \"Date:\\n\",date[i]\n",
    "#         print \"Review:\\n\",reviews[i]\n",
    "        rows=zip(date, score, title, reviews)\n",
    "    with open (\"bestbuy.csv\",'wb') as bb:\n",
    "        writer=csv.writer(bb)\n",
    "        writer.writerows(rows)\n",
    "    print \"done\"\n",
    "else:\n",
    "    print \"Error\"\n",
    "    \n"
   ]
  },
  {
   "cell_type": "code",
   "execution_count": null,
   "metadata": {
    "collapsed": true
   },
   "outputs": [],
   "source": []
  }
 ],
 "metadata": {
  "kernelspec": {
   "display_name": "Python 2",
   "language": "python",
   "name": "python2"
  },
  "language_info": {
   "codemirror_mode": {
    "name": "ipython",
    "version": 2
   },
   "file_extension": ".py",
   "mimetype": "text/x-python",
   "name": "python",
   "nbconvert_exporter": "python",
   "pygments_lexer": "ipython2",
   "version": "2.7.13"
  }
 },
 "nbformat": 4,
 "nbformat_minor": 2
}
